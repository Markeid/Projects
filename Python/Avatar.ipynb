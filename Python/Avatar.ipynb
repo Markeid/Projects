{
 "cells": [
  {
   "cell_type": "code",
   "execution_count": 1,
   "metadata": {},
   "outputs": [
    {
     "name": "stdout",
     "output_type": "stream",
     "text": [
      "Collecting pagan\n",
      "  Downloading pagan-0.4.3.tar.gz (21 kB)\n",
      "  Preparing metadata (setup.py): started\n",
      "  Preparing metadata (setup.py): finished with status 'done'\n",
      "Requirement already satisfied: Pillow>=2.3.0 in c:\\users\\blueshift\\anaconda3\\lib\\site-packages (from pagan) (8.2.0)\n",
      "Building wheels for collected packages: pagan\n",
      "  Building wheel for pagan (setup.py): started\n",
      "  Building wheel for pagan (setup.py): finished with status 'done'\n",
      "  Created wheel for pagan: filename=pagan-0.4.3-py3-none-any.whl size=23112 sha256=fc7c92f27b316019211ec25a587972e253307f9272cb28fe7376d352a98f0ff2\n",
      "  Stored in directory: c:\\users\\blueshift\\appdata\\local\\pip\\cache\\wheels\\80\\c0\\0f\\bc6b4e1631881de7ef31c4afadd058883e2b6cab28e5a93a22\n",
      "Successfully built pagan\n",
      "Installing collected packages: pagan\n",
      "Successfully installed pagan-0.4.3\n",
      "Saving: output/Python Developer.png\n"
     ]
    }
   ],
   "source": [
    "!pip install pagan\n",
    "import pagan\n",
    "inpt = 'Python Developer'\n",
    "img = pagan.Avatar(inpt, pagan.SHA512)\n",
    "img.show()\n",
    "outpath = 'output/'\n",
    "filename = inpt\n",
    "img.save(outpath, filename)\n",
    "img.change('new input', pagan.SHA256)"
   ]
  }
 ],
 "metadata": {
  "interpreter": {
   "hash": "14328259dfa8dc9db2c6c2cf79d8e376e330cf386ae4f80b0145b84a9b8eeea3"
  },
  "kernelspec": {
   "display_name": "Python 3.8.8 ('base')",
   "language": "python",
   "name": "python3"
  },
  "language_info": {
   "codemirror_mode": {
    "name": "ipython",
    "version": 3
   },
   "file_extension": ".py",
   "mimetype": "text/x-python",
   "name": "python",
   "nbconvert_exporter": "python",
   "pygments_lexer": "ipython3",
   "version": "3.8.8"
  },
  "orig_nbformat": 4
 },
 "nbformat": 4,
 "nbformat_minor": 2
}
